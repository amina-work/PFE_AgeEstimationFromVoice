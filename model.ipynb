{
 "cells": [
  {
   "cell_type": "code",
   "execution_count": 1,
   "metadata": {},
   "outputs": [],
   "source": [
    "import os\n",
    "import numpy as np\n",
    "import pandas as pd\n",
    "import matplotlib.pyplot as plt # visualizing data\n",
    "import seaborn as sns # visualizing data 2\n",
    "import warnings\n",
    "warnings.filterwarnings('ignore')\n",
    "\n",
    "import librosa\n",
    "import librosa.display\n",
    "\n",
    "from sklearn.preprocessing import LabelEncoder, StandardScaler, OneHotEncoder\n",
    "from sklearn.compose import ColumnTransformer\n",
    "from sklearn.model_selection import train_test_split, StratifiedKFold\n",
    "from sklearn.metrics import accuracy_score, recall_score, precision_score, f1_score, confusion_matrix\n",
    "\n",
    "\n",
    "from keras.layers import LSTM, Dropout, Dense, MaxPooling1D, Flatten\n",
    "from keras.layers import BatchNormalization\n",
    "from keras.models import Sequential\n",
    "from keras.layers import Reshape\n",
    "from keras.regularizers import l2"
   ]
  },
  {
   "cell_type": "code",
   "execution_count": 2,
   "metadata": {},
   "outputs": [
    {
     "name": "stdout",
     "output_type": "stream",
     "text": [
      "<class 'pandas.core.frame.DataFrame'>\n",
      "RangeIndex: 126108 entries, 0 to 126107\n",
      "Data columns (total 4 columns):\n",
      " #   Column    Non-Null Count   Dtype \n",
      "---  ------    --------------   ----- \n",
      " 0   filename  126108 non-null  object\n",
      " 1   age       126108 non-null  int64 \n",
      " 2   gender    126108 non-null  object\n",
      " 3   accent    126108 non-null  object\n",
      "dtypes: int64(1), object(3)\n",
      "memory usage: 3.8+ MB\n"
     ]
    }
   ],
   "source": [
    "#importing all 12,000 data entries to one file for treatment\n",
    "df = pd.read_csv(\"dataset.csv\")\n",
    "df.info()"
   ]
  },
  {
   "cell_type": "code",
   "execution_count": 3,
   "metadata": {},
   "outputs": [
    {
     "data": {
      "text/html": [
       "<div>\n",
       "<style scoped>\n",
       "    .dataframe tbody tr th:only-of-type {\n",
       "        vertical-align: middle;\n",
       "    }\n",
       "\n",
       "    .dataframe tbody tr th {\n",
       "        vertical-align: top;\n",
       "    }\n",
       "\n",
       "    .dataframe thead th {\n",
       "        text-align: right;\n",
       "    }\n",
       "</style>\n",
       "<table border=\"1\" class=\"dataframe\">\n",
       "  <thead>\n",
       "    <tr style=\"text-align: right;\">\n",
       "      <th></th>\n",
       "      <th>filename</th>\n",
       "      <th>age</th>\n",
       "      <th>gender</th>\n",
       "      <th>accent</th>\n",
       "    </tr>\n",
       "  </thead>\n",
       "  <tbody>\n",
       "    <tr>\n",
       "      <th>0</th>\n",
       "      <td>cv-valid-train/cv-valid-train/sample-000005.mp3</td>\n",
       "      <td>2</td>\n",
       "      <td>female</td>\n",
       "      <td>us</td>\n",
       "    </tr>\n",
       "    <tr>\n",
       "      <th>1</th>\n",
       "      <td>cv-valid-train/cv-valid-train/sample-000008.mp3</td>\n",
       "      <td>7</td>\n",
       "      <td>male</td>\n",
       "      <td>us</td>\n",
       "    </tr>\n",
       "  </tbody>\n",
       "</table>\n",
       "</div>"
      ],
      "text/plain": [
       "                                          filename  age  gender accent\n",
       "0  cv-valid-train/cv-valid-train/sample-000005.mp3    2  female     us\n",
       "1  cv-valid-train/cv-valid-train/sample-000008.mp3    7    male     us"
      ]
     },
     "execution_count": 3,
     "metadata": {},
     "output_type": "execute_result"
    }
   ],
   "source": [
    "df['filename'] = df['filename'].str.replace('D:/AMINA/PFE24/datasets/commonvoice/', '')\n",
    "df.head(2)"
   ]
  },
  {
   "cell_type": "code",
   "execution_count": 57,
   "metadata": {},
   "outputs": [
    {
     "name": "stdout",
     "output_type": "stream",
     "text": [
      "features:  ['female', 'us', 1681.5324139796423, 1680.8059344270619, 3543.6304644808743, -552.03424, 72.4191, 26.703245, 36.881405, -12.264315, -4.6388655, -18.739496, 0.186498, -15.599341, -15.913729, -15.611613, -6.366278, -6.7531643, -6.604417, -9.284645, 0.51824677, -8.63934, -10.15817, -2.9375417, -6.451939]\n"
     ]
    }
   ],
   "source": [
    "# Feature extraction\n",
    "ds_path = \"D:/AMINA/PFE24/datasets/commonvoice/\"\n",
    "\n",
    "def feature_extraction(filename, sampling_rate=16000):\n",
    "    path = \"{}{}\".format(ds_path, filename)\n",
    "    features = list()\n",
    "    audio, _ = librosa.load(path, sr=sampling_rate)\n",
    " \n",
    "    gender = df[df['filename'] == filename].gender.values[0]\n",
    "    accent = df[df['filename'] == filename].accent.values[0]\n",
    "    spectral_centroid = np.mean(librosa.feature.spectral_centroid(y=audio, sr=sampling_rate))\n",
    "    spectral_bandwidth = np.mean(librosa.feature.spectral_bandwidth(y=audio, sr=sampling_rate))\n",
    "    spectral_rolloff = np.mean(librosa.feature.spectral_rolloff(y=audio, sr=sampling_rate))\n",
    "    features.append(gender)\n",
    "    features.append(accent)\n",
    "    features.append(spectral_centroid)\n",
    "    features.append(spectral_bandwidth)\n",
    "    features.append(spectral_rolloff)\n",
    "    mfcc = librosa.feature.mfcc(y=audio, sr=sampling_rate) #16kHz\n",
    "    for el in mfcc:\n",
    "        features.append(np.mean(el))\n",
    "    \n",
    "    return features\n",
    "    \n",
    "features = feature_extraction(df.iloc[0]['filename'])\n",
    "print(\"features: \", features)"
   ]
  },
  {
   "cell_type": "code",
   "execution_count": 58,
   "metadata": {},
   "outputs": [
    {
     "name": "stdout",
     "output_type": "stream",
     "text": [
      "0/126107"
     ]
    },
    {
     "name": "stdout",
     "output_type": "stream",
     "text": [
      "126107/126107"
     ]
    }
   ],
   "source": [
    "def create_df_features(orig):\n",
    "    new_rows = []\n",
    "    tot_rows = len(orig) - 1\n",
    "    stop_counter = 130000\n",
    "    \n",
    "    for idx, row in orig.iterrows():\n",
    "        if idx >= stop_counter:\n",
    "            break\n",
    "        print(\"\\r\", end=\"\")\n",
    "        print(\"{}/{}\".format(idx, tot_rows), end=\"\", flush=True)\n",
    "        features = feature_extraction(row['filename'])\n",
    "        features.append(row['age'])\n",
    "        new_rows.append(features)\n",
    "    \n",
    "    # Define column names for the features DataFrame\n",
    "    column_names = [\"gender\", \"accent\", \"spectral_centroid\", \"spectral_bandwidth\", \"spectral_rolloff\",\n",
    "                    \"mfcc1\", \"mfcc2\", \"mfcc3\", \"mfcc4\", \"mfcc5\", \"mfcc6\", \"mfcc7\", \"mfcc8\",\n",
    "                    \"mfcc9\", \"mfcc10\", \"mfcc11\", \"mfcc12\", \"mfcc13\", \"mfcc14\", \"mfcc15\", \"mfcc16\",\n",
    "                    \"mfcc17\", \"mfcc18\", \"mfcc19\", \"mfcc20\", \"age\"]\n",
    "    \n",
    "    return pd.DataFrame(new_rows, columns=column_names)\n",
    "\n",
    "# Uncomment the line below if running for the first time\n",
    "#df_features = create_df_features(df)"
   ]
  },
  {
   "cell_type": "code",
   "execution_count": 23,
   "metadata": {},
   "outputs": [
    {
     "data": {
      "text/html": [
       "<div>\n",
       "<style scoped>\n",
       "    .dataframe tbody tr th:only-of-type {\n",
       "        vertical-align: middle;\n",
       "    }\n",
       "\n",
       "    .dataframe tbody tr th {\n",
       "        vertical-align: top;\n",
       "    }\n",
       "\n",
       "    .dataframe thead th {\n",
       "        text-align: right;\n",
       "    }\n",
       "</style>\n",
       "<table border=\"1\" class=\"dataframe\">\n",
       "  <thead>\n",
       "    <tr style=\"text-align: right;\">\n",
       "      <th></th>\n",
       "      <th>gender</th>\n",
       "      <th>accent</th>\n",
       "      <th>spectral_centroid</th>\n",
       "      <th>spectral_bandwidth</th>\n",
       "      <th>spectral_rolloff</th>\n",
       "      <th>mfcc1</th>\n",
       "      <th>mfcc2</th>\n",
       "      <th>mfcc3</th>\n",
       "      <th>mfcc4</th>\n",
       "      <th>mfcc5</th>\n",
       "      <th>...</th>\n",
       "      <th>mfcc12</th>\n",
       "      <th>mfcc13</th>\n",
       "      <th>mfcc14</th>\n",
       "      <th>mfcc15</th>\n",
       "      <th>mfcc16</th>\n",
       "      <th>mfcc17</th>\n",
       "      <th>mfcc18</th>\n",
       "      <th>mfcc19</th>\n",
       "      <th>mfcc20</th>\n",
       "      <th>age</th>\n",
       "    </tr>\n",
       "  </thead>\n",
       "  <tbody>\n",
       "    <tr>\n",
       "      <th>0</th>\n",
       "      <td>female</td>\n",
       "      <td>us</td>\n",
       "      <td>1681.532414</td>\n",
       "      <td>1680.805934</td>\n",
       "      <td>3543.630464</td>\n",
       "      <td>-552.03424</td>\n",
       "      <td>72.41910</td>\n",
       "      <td>26.703245</td>\n",
       "      <td>36.881405</td>\n",
       "      <td>-12.264315</td>\n",
       "      <td>...</td>\n",
       "      <td>-6.366278</td>\n",
       "      <td>-6.753164</td>\n",
       "      <td>-6.604417</td>\n",
       "      <td>-9.284645</td>\n",
       "      <td>0.518247</td>\n",
       "      <td>-8.639340</td>\n",
       "      <td>-10.15817</td>\n",
       "      <td>-2.937542</td>\n",
       "      <td>-6.451939</td>\n",
       "      <td>2</td>\n",
       "    </tr>\n",
       "    <tr>\n",
       "      <th>1</th>\n",
       "      <td>male</td>\n",
       "      <td>us</td>\n",
       "      <td>2020.193755</td>\n",
       "      <td>1424.773656</td>\n",
       "      <td>3422.301136</td>\n",
       "      <td>-390.63916</td>\n",
       "      <td>86.60778</td>\n",
       "      <td>-31.042065</td>\n",
       "      <td>17.366293</td>\n",
       "      <td>1.816059</td>\n",
       "      <td>...</td>\n",
       "      <td>-2.807799</td>\n",
       "      <td>-12.215798</td>\n",
       "      <td>-7.395828</td>\n",
       "      <td>-7.008618</td>\n",
       "      <td>1.758026</td>\n",
       "      <td>-2.460396</td>\n",
       "      <td>-3.82122</td>\n",
       "      <td>-5.165414</td>\n",
       "      <td>-5.350076</td>\n",
       "      <td>7</td>\n",
       "    </tr>\n",
       "  </tbody>\n",
       "</table>\n",
       "<p>2 rows × 26 columns</p>\n",
       "</div>"
      ],
      "text/plain": [
       "   gender accent  spectral_centroid  spectral_bandwidth  spectral_rolloff  \\\n",
       "0  female     us        1681.532414         1680.805934       3543.630464   \n",
       "1    male     us        2020.193755         1424.773656       3422.301136   \n",
       "\n",
       "       mfcc1     mfcc2      mfcc3      mfcc4      mfcc5  ...    mfcc12  \\\n",
       "0 -552.03424  72.41910  26.703245  36.881405 -12.264315  ... -6.366278   \n",
       "1 -390.63916  86.60778 -31.042065  17.366293   1.816059  ... -2.807799   \n",
       "\n",
       "      mfcc13    mfcc14    mfcc15    mfcc16    mfcc17    mfcc18    mfcc19  \\\n",
       "0  -6.753164 -6.604417 -9.284645  0.518247 -8.639340 -10.15817 -2.937542   \n",
       "1 -12.215798 -7.395828 -7.008618  1.758026 -2.460396  -3.82122 -5.165414   \n",
       "\n",
       "     mfcc20  age  \n",
       "0 -6.451939    2  \n",
       "1 -5.350076    7  \n",
       "\n",
       "[2 rows x 26 columns]"
      ]
     },
     "execution_count": 23,
     "metadata": {},
     "output_type": "execute_result"
    }
   ],
   "source": [
    "#df_features.to_csv('df_features.csv', index=False) # to save to disk\n",
    "df_features = pd.read_csv('df_features.csv')\n",
    "df_features.head(2)"
   ]
  },
  {
   "cell_type": "code",
   "execution_count": 24,
   "metadata": {},
   "outputs": [
    {
     "name": "stdout",
     "output_type": "stream",
     "text": [
      "Epoch 1/10\n",
      "3153/3153 [==============================] - 639s 201ms/step - loss: 1.6598 - accuracy: 0.3310 - val_loss: 1.4593 - val_accuracy: 0.4371\n",
      "Epoch 2/10\n",
      "3153/3153 [==============================] - 653s 207ms/step - loss: 1.2449 - accuracy: 0.5375 - val_loss: 0.9484 - val_accuracy: 0.6671\n",
      "Epoch 3/10\n",
      "3153/3153 [==============================] - 646s 205ms/step - loss: 0.8315 - accuracy: 0.7097 - val_loss: 0.7020 - val_accuracy: 0.7546\n",
      "Epoch 4/10\n",
      "3153/3153 [==============================] - 635s 201ms/step - loss: 0.5992 - accuracy: 0.7945 - val_loss: 0.5270 - val_accuracy: 0.8214\n",
      "Epoch 5/10\n",
      "3153/3153 [==============================] - 635s 201ms/step - loss: 0.4570 - accuracy: 0.8431 - val_loss: 0.4649 - val_accuracy: 0.8424\n",
      "Epoch 6/10\n",
      "3153/3153 [==============================] - 655s 208ms/step - loss: 0.3694 - accuracy: 0.8736 - val_loss: 0.4347 - val_accuracy: 0.8536\n",
      "Epoch 7/10\n",
      "3153/3153 [==============================] - 643s 204ms/step - loss: 0.3008 - accuracy: 0.8977 - val_loss: 0.3979 - val_accuracy: 0.8650\n",
      "Epoch 8/10\n",
      "3153/3153 [==============================] - 641s 203ms/step - loss: 0.2529 - accuracy: 0.9152 - val_loss: 0.3991 - val_accuracy: 0.8716\n",
      "Epoch 9/10\n",
      "3153/3153 [==============================] - 650s 206ms/step - loss: 0.2160 - accuracy: 0.9261 - val_loss: 0.3778 - val_accuracy: 0.8821\n",
      "Epoch 10/10\n",
      "3153/3153 [==============================] - 683s 217ms/step - loss: 0.1878 - accuracy: 0.9368 - val_loss: 0.3853 - val_accuracy: 0.8807\n",
      "395/395 [==============================] - 42s 104ms/step\n"
     ]
    }
   ],
   "source": [
    "categorical_cols = ['gender', 'accent']\n",
    "numerical_cols = [col for col in df_features.columns if col not in ['age', 'gender', 'accent']]\n",
    "\n",
    "preprocessor = ColumnTransformer(\n",
    "    transformers=[\n",
    "        ('cat', OneHotEncoder(), categorical_cols)\n",
    "    ],\n",
    "    remainder='passthrough'\n",
    ")\n",
    "\n",
    "X_preprocessed = preprocessor.fit_transform(df_features.drop(columns=['age']))\n",
    "label_encoder = LabelEncoder()\n",
    "y_encoded = label_encoder.fit_transform(df_features['age'])\n",
    "\n",
    "X_train, X_temp, y_train, y_temp = train_test_split(X_preprocessed, y_encoded, test_size=0.2, stratify=y_encoded, random_state=42)\n",
    "X_val, X_test, y_val, y_test = train_test_split(X_temp, y_temp, test_size=0.5, stratify=y_temp, random_state=42)\n",
    "\n",
    "X_train = X_train.astype('float32')\n",
    "X_val = X_val.astype('float32')\n",
    "\n",
    "scaler = StandardScaler()\n",
    "X_train = scaler.fit_transform(X_train)\n",
    "X_val = scaler.transform(X_val)\n",
    "model = Sequential([\n",
    "    LSTM(units=256, return_sequences=True, input_shape=(X_train.shape[1], 1)),\n",
    "    MaxPooling1D(pool_size=2),\n",
    "    LSTM(units=256, return_sequences=True),\n",
    "    Dropout(0.1),\n",
    "    LSTM(units=128),\n",
    "    Dropout(0.1),\n",
    "    Flatten(),\n",
    "    Dense(units=32, activation='relu'),\n",
    "    BatchNormalization(),\n",
    "    Dense(units=len(label_encoder.classes_), activation='softmax')\n",
    "])\n",
    "\n",
    "model.compile(optimizer='adam', loss='sparse_categorical_crossentropy', metrics=['accuracy'])\n",
    "history = model.fit(X_train.reshape((X_train.shape[0], X_train.shape[1], 1)), y_train, \n",
    "                    epochs=10, batch_size=32, validation_data=(X_val.reshape((X_val.shape[0], X_val.shape[1], 1)), y_val))\n",
    "X_test = scaler.transform(X_test)\n",
    "y_pred_probabilities = model.predict(X_test.reshape((X_test.shape[0], X_test.shape[1], 1)))\n",
    "y_pred = np.argmax(y_pred_probabilities, axis=1)\n",
    "\n",
    "y_test_decoded = label_encoder.inverse_transform(y_test)\n",
    "y_pred_decoded = label_encoder.inverse_transform(y_pred)\n",
    "\n",
    "\n",
    "# Calculate evaluation metrics\n",
    "accuracy = accuracy_score(y_test_decoded, y_pred_decoded)\n",
    "precision = precision_score(y_test_decoded, y_pred_decoded, average='weighted', labels=np.unique(y_pred_decoded))\n",
    "recall = recall_score(y_test_decoded, y_pred_decoded, average='weighted', labels=np.unique(y_pred_decoded))\n",
    "f1 = f1_score(y_test_decoded, y_pred_decoded, average='weighted', labels=np.unique(y_pred_decoded))\n",
    "\n",
    "# Confusion matrix\n",
    "conf_matrix = confusion_matrix(y_test_decoded, y_pred_decoded, labels=np.unique(y_pred_decoded))"
   ]
  },
  {
   "cell_type": "code",
   "execution_count": 31,
   "metadata": {},
   "outputs": [
    {
     "data": {
      "image/png": "[encoded data removed]",
      "text/plain": [
       "<Figure size 640x480 with 1 Axes>"
      ]
     },
     "metadata": {},
     "output_type": "display_data"
    }
   ],
   "source": [
    "plt.plot(history.history['accuracy'])\n",
    "plt.plot(history.history['val_accuracy'])\n",
    "plt.title('Model accuracy')\n",
    "plt.xlabel('Epoch')\n",
    "plt.ylabel('Accuracy')\n",
    "plt.legend(['Train', 'Validation'], loc='upper left')\n",
    "plt.show()"
   ]
  },
  {
   "cell_type": "code",
   "execution_count": 26,
   "metadata": {},
   "outputs": [
    {
     "name": "stdout",
     "output_type": "stream",
     "text": [
      "42\n"
     ]
    }
   ],
   "source": [
    "print(X_train.shape[1])"
   ]
  },
  {
   "cell_type": "code",
   "execution_count": 27,
   "metadata": {},
   "outputs": [
    {
     "name": "stdout",
     "output_type": "stream",
     "text": [
      "Accuracy: 0.8827214336690191\n",
      "Precision: 0.8829625342832359\n",
      "Recall: 0.8827214336690191\n",
      "F1 Score: 0.8827948669846181\n"
     ]
    }
   ],
   "source": [
    "#Performance\n",
    "print(\"Accuracy:\", accuracy)\n",
    "print(\"Precision:\", precision)\n",
    "print(\"Recall:\", recall)\n",
    "print(\"F1 Score:\", f1)"
   ]
  },
  {
   "cell_type": "code",
   "execution_count": 28,
   "metadata": {},
   "outputs": [
    {
     "name": "stdout",
     "output_type": "stream",
     "text": [
      "Train set age counts:\n",
      "Age label 0: 6431 instances\n",
      "Age label 1: 29305 instances\n",
      "Age label 2: 26156 instances\n",
      "Age label 3: 15265 instances\n",
      "Age label 4: 14316 instances\n",
      "Age label 5: 6789 instances\n",
      "Age label 6: 2264 instances\n",
      "Age label 7: 360 instances\n",
      "\n",
      "Validation set age counts:\n",
      "Age label 0: 804 instances\n",
      "Age label 1: 3663 instances\n",
      "Age label 2: 3269 instances\n",
      "Age label 3: 1909 instances\n",
      "Age label 4: 1789 instances\n",
      "Age label 5: 849 instances\n",
      "Age label 6: 283 instances\n",
      "Age label 7: 45 instances\n",
      "\n",
      "Test set age counts:\n",
      "Age label 0: 804 instances\n",
      "Age label 1: 3663 instances\n",
      "Age label 2: 3270 instances\n",
      "Age label 3: 1908 instances\n",
      "Age label 4: 1790 instances\n",
      "Age label 5: 848 instances\n",
      "Age label 6: 283 instances\n",
      "Age label 7: 45 instances\n"
     ]
    }
   ],
   "source": [
    "# Count the occurrences of each unique age label in train, val, and test sets\n",
    "train_age_counts = np.bincount(y_train)\n",
    "val_age_counts = np.bincount(y_val)\n",
    "test_age_counts = np.bincount(y_test)\n",
    "\n",
    "# Print the counts for each age label in each subset\n",
    "print(\"Train set age counts:\")\n",
    "for age_label, count in enumerate(train_age_counts):\n",
    "    print(f\"Age label {age_label}: {count} instances\")\n",
    "\n",
    "print(\"\\nValidation set age counts:\")\n",
    "for age_label, count in enumerate(val_age_counts):\n",
    "    print(f\"Age label {age_label}: {count} instances\")\n",
    "\n",
    "print(\"\\nTest set age counts:\")\n",
    "for age_label, count in enumerate(test_age_counts):\n",
    "    print(f\"Age label {age_label}: {count} instances\")"
   ]
  },
  {
   "cell_type": "code",
   "execution_count": 32,
   "metadata": {},
   "outputs": [
    {
     "data": {
      "image/png": "[encoded data removed]",
      "text/plain": [
       "<Figure size 700x600 with 2 Axes>"
      ]
     },
     "metadata": {},
     "output_type": "display_data"
    }
   ],
   "source": [
    "plt.figure(figsize=(7, 6))\n",
    "sns.heatmap(conf_matrix, annot=True, fmt='d', cmap='Blues', \n",
    "            xticklabels=label_encoder.classes_, \n",
    "            yticklabels=label_encoder.classes_)\n",
    "plt.xlabel('Predicted')\n",
    "plt.ylabel('True')\n",
    "plt.title('Confusion Matrix')\n",
    "plt.show()"
   ]
  },
  {
   "cell_type": "code",
   "execution_count": 30,
   "metadata": {},
   "outputs": [
    {
     "name": "stdout",
     "output_type": "stream",
     "text": [
      "Accuracy per gender and accent:\n",
      "gender  accent        \n",
      "female  african           0.868421\n",
      "        australia         0.875000\n",
      "        bermuda           0.800000\n",
      "        canada            0.905660\n",
      "        england           0.892655\n",
      "        indian            0.883495\n",
      "        ireland           0.900000\n",
      "        malaysia          1.000000\n",
      "        newzealand        0.888889\n",
      "        philippines       0.909091\n",
      "        scotland          0.960000\n",
      "        singapore         0.769231\n",
      "        us                0.880984\n",
      "male    african           0.903448\n",
      "        australia         0.894309\n",
      "        bermuda           0.950000\n",
      "        canada            0.896018\n",
      "        england           0.877852\n",
      "        hongkong          0.750000\n",
      "        indian            0.900166\n",
      "        ireland           0.907143\n",
      "        malaysia          0.862069\n",
      "        newzealand        0.854839\n",
      "        philippines       0.968750\n",
      "        scotland          0.883817\n",
      "        singapore         0.909091\n",
      "        southatlandtic    0.888889\n",
      "        us                0.875484\n",
      "        wales             0.921875\n",
      "other   australia         1.000000\n",
      "        canada            1.000000\n",
      "        england           0.888889\n",
      "        ireland           0.952381\n",
      "        scotland          0.750000\n",
      "        us                0.921053\n",
      "dtype: float64\n",
      "Overall Accuracy: 0.8827214336690191\n"
     ]
    }
   ],
   "source": [
    "# Create a DataFrame with the test results\n",
    "results_df = pd.DataFrame({'Actual_Age': y_test_decoded, 'Predicted_Age': y_pred_decoded})\n",
    "\n",
    "# Merge the results DataFrame with the original features DataFrame to get gender and accent information\n",
    "results_df = pd.concat([results_df, df_features.reset_index(drop=True)], axis=1)\n",
    "\n",
    "# Drop rows with NaN values\n",
    "results_df = results_df.dropna()\n",
    "\n",
    "# Group by gender and accent, then calculate accuracy for each group\n",
    "accuracy_per_group = results_df.groupby(['gender', 'accent']).apply(lambda x: accuracy_score(x['Actual_Age'], x['Predicted_Age']))\n",
    "\n",
    "# Print accuracy per gender and accent\n",
    "print(\"Accuracy per gender and accent:\")\n",
    "print(accuracy_per_group)\n",
    "\n",
    "# Calculate overall accuracy\n",
    "overall_accuracy = accuracy_score(results_df['Actual_Age'], results_df['Predicted_Age'])\n",
    "\n",
    "# Print overall accuracy\n",
    "print(\"Overall Accuracy:\", overall_accuracy)"
   ]
  },
  {
   "cell_type": "code",
   "execution_count": 33,
   "metadata": {},
   "outputs": [],
   "source": [
    "model.save('my_model.h5')"
   ]
  }
 ],
 "metadata": {
  "kernelspec": {
   "display_name": "Python 3",
   "language": "python",
   "name": "python3"
  },
  "language_info": {
   "codemirror_mode": {
    "name": "ipython",
    "version": 3
   },
   "file_extension": ".py",
   "mimetype": "text/x-python",
   "name": "python",
   "nbconvert_exporter": "python",
   "pygments_lexer": "ipython3",
   "version": "3.11.4"
  }
 },
 "nbformat": 4,
 "nbformat_minor": 2
}
