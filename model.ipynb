{
 "cells": [
  {
   "cell_type": "code",
   "execution_count": 9,
   "metadata": {},
   "outputs": [],
   "source": [
    "import os\n",
    "import numpy as np\n",
    "import pandas as pd\n",
    "import matplotlib.pyplot as plt # visualizing data\n",
    "import seaborn as sns # visualizing data 2\n",
    "import warnings\n",
    "warnings.filterwarnings('ignore')\n",
    "\n",
    "import librosa\n",
    "import librosa.display\n",
    "\n",
    "from sklearn.preprocessing import LabelEncoder, StandardScaler, OneHotEncoder\n",
    "from sklearn.compose import ColumnTransformer\n",
    "from sklearn.model_selection import train_test_split, StratifiedKFold\n",
    "from sklearn.metrics import accuracy_score, recall_score, precision_score, f1_score, confusion_matrix\n",
    "\n",
    "\n",
    "from keras.layers import LSTM, Dropout, Dense, MaxPooling1D, GlobalMaxPooling1D, Flatten\n",
    "from keras.models import Sequential\n",
    "from keras.layers import Reshape"
   ]
  },
  {
   "cell_type": "code",
   "execution_count": 3,
   "metadata": {},
   "outputs": [
    {
     "name": "stdout",
     "output_type": "stream",
     "text": [
      "<class 'pandas.core.frame.DataFrame'>\n",
      "RangeIndex: 126108 entries, 0 to 126107\n",
      "Data columns (total 4 columns):\n",
      " #   Column    Non-Null Count   Dtype \n",
      "---  ------    --------------   ----- \n",
      " 0   filename  126108 non-null  object\n",
      " 1   age       126108 non-null  int64 \n",
      " 2   gender    126108 non-null  object\n",
      " 3   accent    126108 non-null  object\n",
      "dtypes: int64(1), object(3)\n",
      "memory usage: 3.8+ MB\n"
     ]
    }
   ],
   "source": [
    "#importing all 12,000 data entries to one file for treatment\n",
    "df = pd.read_csv(\"dataset.csv\")\n",
    "df.info()"
   ]
  },
  {
   "cell_type": "code",
   "execution_count": 6,
   "metadata": {},
   "outputs": [
    {
     "data": {
      "text/html": [
       "<div>\n",
       "<style scoped>\n",
       "    .dataframe tbody tr th:only-of-type {\n",
       "        vertical-align: middle;\n",
       "    }\n",
       "\n",
       "    .dataframe tbody tr th {\n",
       "        vertical-align: top;\n",
       "    }\n",
       "\n",
       "    .dataframe thead th {\n",
       "        text-align: right;\n",
       "    }\n",
       "</style>\n",
       "<table border=\"1\" class=\"dataframe\">\n",
       "  <thead>\n",
       "    <tr style=\"text-align: right;\">\n",
       "      <th></th>\n",
       "      <th>filename</th>\n",
       "      <th>age</th>\n",
       "      <th>gender</th>\n",
       "      <th>accent</th>\n",
       "    </tr>\n",
       "  </thead>\n",
       "  <tbody>\n",
       "    <tr>\n",
       "      <th>0</th>\n",
       "      <td>cv-valid-train/cv-valid-train/sample-000005.mp3</td>\n",
       "      <td>2</td>\n",
       "      <td>female</td>\n",
       "      <td>us</td>\n",
       "    </tr>\n",
       "    <tr>\n",
       "      <th>1</th>\n",
       "      <td>cv-valid-train/cv-valid-train/sample-000008.mp3</td>\n",
       "      <td>7</td>\n",
       "      <td>male</td>\n",
       "      <td>us</td>\n",
       "    </tr>\n",
       "  </tbody>\n",
       "</table>\n",
       "</div>"
      ],
      "text/plain": [
       "                                          filename  age  gender accent\n",
       "0  cv-valid-train/cv-valid-train/sample-000005.mp3    2  female     us\n",
       "1  cv-valid-train/cv-valid-train/sample-000008.mp3    7    male     us"
      ]
     },
     "execution_count": 6,
     "metadata": {},
     "output_type": "execute_result"
    }
   ],
   "source": [
    "df['filename'] = df['filename'].str.replace('D:/AMINA/PFE24/datasets/commonvoice/', '')\n",
    "df.head(2)"
   ]
  },
  {
   "cell_type": "code",
   "execution_count": 57,
   "metadata": {},
   "outputs": [
    {
     "name": "stdout",
     "output_type": "stream",
     "text": [
      "features:  ['female', 'us', 1681.5324139796423, 1680.8059344270619, 3543.6304644808743, -552.03424, 72.4191, 26.703245, 36.881405, -12.264315, -4.6388655, -18.739496, 0.186498, -15.599341, -15.913729, -15.611613, -6.366278, -6.7531643, -6.604417, -9.284645, 0.51824677, -8.63934, -10.15817, -2.9375417, -6.451939]\n"
     ]
    }
   ],
   "source": [
    "# Feature extraction\n",
    "ds_path = \"D:/AMINA/PFE24/datasets/commonvoice/\"\n",
    "\n",
    "def feature_extraction(filename, sampling_rate=16000):\n",
    "    path = \"{}{}\".format(ds_path, filename)  # Correct path construction\n",
    "    features = list()\n",
    "    audio, _ = librosa.load(path, sr=sampling_rate)\n",
    "    \n",
    "    gender = df[df['filename'] == filename].gender.values[0]\n",
    "    accent = df[df['filename'] == filename].accent.values[0]\n",
    "    spectral_centroid = np.mean(librosa.feature.spectral_centroid(y=audio, sr=sampling_rate))\n",
    "    spectral_bandwidth = np.mean(librosa.feature.spectral_bandwidth(y=audio, sr=sampling_rate))\n",
    "    spectral_rolloff = np.mean(librosa.feature.spectral_rolloff(y=audio, sr=sampling_rate))\n",
    "    features.append(gender)\n",
    "    features.append(accent)\n",
    "    features.append(spectral_centroid)\n",
    "    #this represents the \"center of mass\" of the spectrum of the audio signal in Hz\n",
    "    features.append(spectral_bandwidth)\n",
    "    #This measures the width of the frequency range in which a majority of the signal's energy is contained in HZ\n",
    "    features.append(spectral_rolloff)\n",
    "    #This is the frequency below which a certain percentage of the total spectral energy lies in Hz\n",
    "    \n",
    "    mfcc = librosa.feature.mfcc(y=audio, sr=sampling_rate) #16GHz\n",
    "    #the average of each of the 20 MFCC coefficient over the entire audio signal\n",
    "    for el in mfcc:\n",
    "        features.append(np.mean(el))\n",
    "    \n",
    "    return features\n",
    "    \n",
    "features = feature_extraction(df.iloc[0]['filename'])\n",
    "print(\"features: \", features)"
   ]
  },
  {
   "cell_type": "code",
   "execution_count": 58,
   "metadata": {},
   "outputs": [
    {
     "name": "stdout",
     "output_type": "stream",
     "text": [
      "0/126107"
     ]
    },
    {
     "name": "stdout",
     "output_type": "stream",
     "text": [
      "126107/126107"
     ]
    }
   ],
   "source": [
    "def create_df_features(orig):\n",
    "    new_rows = []\n",
    "    tot_rows = len(orig) - 1\n",
    "    stop_counter = 130000\n",
    "    \n",
    "    for idx, row in orig.iterrows():\n",
    "        if idx >= stop_counter:\n",
    "            break\n",
    "        print(\"\\r\", end=\"\")\n",
    "        print(\"{}/{}\".format(idx, tot_rows), end=\"\", flush=True)\n",
    "        features = feature_extraction(row['filename'])\n",
    "        features.append(row['age'])\n",
    "        new_rows.append(features)\n",
    "    \n",
    "    # Define column names for the features DataFrame\n",
    "    column_names = [\"gender\", \"accent\", \"spectral_centroid\", \"spectral_bandwidth\", \"spectral_rolloff\",\n",
    "                    \"mfcc1\", \"mfcc2\", \"mfcc3\", \"mfcc4\", \"mfcc5\", \"mfcc6\", \"mfcc7\", \"mfcc8\",\n",
    "                    \"mfcc9\", \"mfcc10\", \"mfcc11\", \"mfcc12\", \"mfcc13\", \"mfcc14\", \"mfcc15\", \"mfcc16\",\n",
    "                    \"mfcc17\", \"mfcc18\", \"mfcc19\", \"mfcc20\", \"age\"]\n",
    "    \n",
    "    return pd.DataFrame(new_rows, columns=column_names)\n",
    "\n",
    "# Uncomment the line below if running for the first time\n",
    "#df_features = create_df_features(df)"
   ]
  },
  {
   "cell_type": "code",
   "execution_count": 10,
   "metadata": {},
   "outputs": [
    {
     "data": {
      "text/html": [
       "<div>\n",
       "<style scoped>\n",
       "    .dataframe tbody tr th:only-of-type {\n",
       "        vertical-align: middle;\n",
       "    }\n",
       "\n",
       "    .dataframe tbody tr th {\n",
       "        vertical-align: top;\n",
       "    }\n",
       "\n",
       "    .dataframe thead th {\n",
       "        text-align: right;\n",
       "    }\n",
       "</style>\n",
       "<table border=\"1\" class=\"dataframe\">\n",
       "  <thead>\n",
       "    <tr style=\"text-align: right;\">\n",
       "      <th></th>\n",
       "      <th>gender</th>\n",
       "      <th>accent</th>\n",
       "      <th>spectral_centroid</th>\n",
       "      <th>spectral_bandwidth</th>\n",
       "      <th>spectral_rolloff</th>\n",
       "      <th>mfcc1</th>\n",
       "      <th>mfcc2</th>\n",
       "      <th>mfcc3</th>\n",
       "      <th>mfcc4</th>\n",
       "      <th>mfcc5</th>\n",
       "      <th>...</th>\n",
       "      <th>mfcc12</th>\n",
       "      <th>mfcc13</th>\n",
       "      <th>mfcc14</th>\n",
       "      <th>mfcc15</th>\n",
       "      <th>mfcc16</th>\n",
       "      <th>mfcc17</th>\n",
       "      <th>mfcc18</th>\n",
       "      <th>mfcc19</th>\n",
       "      <th>mfcc20</th>\n",
       "      <th>age</th>\n",
       "    </tr>\n",
       "  </thead>\n",
       "  <tbody>\n",
       "    <tr>\n",
       "      <th>0</th>\n",
       "      <td>female</td>\n",
       "      <td>us</td>\n",
       "      <td>1681.532414</td>\n",
       "      <td>1680.805934</td>\n",
       "      <td>3543.630464</td>\n",
       "      <td>-552.03424</td>\n",
       "      <td>72.41910</td>\n",
       "      <td>26.703245</td>\n",
       "      <td>36.881405</td>\n",
       "      <td>-12.264315</td>\n",
       "      <td>...</td>\n",
       "      <td>-6.366278</td>\n",
       "      <td>-6.753164</td>\n",
       "      <td>-6.604417</td>\n",
       "      <td>-9.284645</td>\n",
       "      <td>0.518247</td>\n",
       "      <td>-8.639340</td>\n",
       "      <td>-10.15817</td>\n",
       "      <td>-2.937542</td>\n",
       "      <td>-6.451939</td>\n",
       "      <td>2</td>\n",
       "    </tr>\n",
       "    <tr>\n",
       "      <th>1</th>\n",
       "      <td>male</td>\n",
       "      <td>us</td>\n",
       "      <td>2020.193755</td>\n",
       "      <td>1424.773656</td>\n",
       "      <td>3422.301136</td>\n",
       "      <td>-390.63916</td>\n",
       "      <td>86.60778</td>\n",
       "      <td>-31.042065</td>\n",
       "      <td>17.366293</td>\n",
       "      <td>1.816059</td>\n",
       "      <td>...</td>\n",
       "      <td>-2.807799</td>\n",
       "      <td>-12.215798</td>\n",
       "      <td>-7.395828</td>\n",
       "      <td>-7.008618</td>\n",
       "      <td>1.758026</td>\n",
       "      <td>-2.460396</td>\n",
       "      <td>-3.82122</td>\n",
       "      <td>-5.165414</td>\n",
       "      <td>-5.350076</td>\n",
       "      <td>7</td>\n",
       "    </tr>\n",
       "  </tbody>\n",
       "</table>\n",
       "<p>2 rows × 26 columns</p>\n",
       "</div>"
      ],
      "text/plain": [
       "   gender accent  spectral_centroid  spectral_bandwidth  spectral_rolloff  \\\n",
       "0  female     us        1681.532414         1680.805934       3543.630464   \n",
       "1    male     us        2020.193755         1424.773656       3422.301136   \n",
       "\n",
       "       mfcc1     mfcc2      mfcc3      mfcc4      mfcc5  ...    mfcc12  \\\n",
       "0 -552.03424  72.41910  26.703245  36.881405 -12.264315  ... -6.366278   \n",
       "1 -390.63916  86.60778 -31.042065  17.366293   1.816059  ... -2.807799   \n",
       "\n",
       "      mfcc13    mfcc14    mfcc15    mfcc16    mfcc17    mfcc18    mfcc19  \\\n",
       "0  -6.753164 -6.604417 -9.284645  0.518247 -8.639340 -10.15817 -2.937542   \n",
       "1 -12.215798 -7.395828 -7.008618  1.758026 -2.460396  -3.82122 -5.165414   \n",
       "\n",
       "     mfcc20  age  \n",
       "0 -6.451939    2  \n",
       "1 -5.350076    7  \n",
       "\n",
       "[2 rows x 26 columns]"
      ]
     },
     "execution_count": 10,
     "metadata": {},
     "output_type": "execute_result"
    }
   ],
   "source": [
    "#df_features.to_csv('df_features.csv', index=False) # to save to disk\n",
    "df_features = pd.read_csv('df_features.csv')\n",
    "df_features.head(2)"
   ]
  },
  {
   "cell_type": "code",
   "execution_count": 21,
   "metadata": {},
   "outputs": [
    {
     "name": "stdout",
     "output_type": "stream",
     "text": [
      "Epoch 1/10\n",
      "3153/3153 [==============================] - 436s 137ms/step - loss: 1.5579 - accuracy: 0.3855 - val_loss: 1.3801 - val_accuracy: 0.4797\n",
      "Epoch 2/10\n",
      "3153/3153 [==============================] - 422s 134ms/step - loss: 1.2171 - accuracy: 0.5502 - val_loss: 1.0560 - val_accuracy: 0.6177\n",
      "Epoch 3/10\n",
      "3153/3153 [==============================] - 429s 136ms/step - loss: 0.9494 - accuracy: 0.6617 - val_loss: 0.8522 - val_accuracy: 0.7011\n",
      "Epoch 4/10\n",
      "3153/3153 [==============================] - 420s 133ms/step - loss: 0.7683 - accuracy: 0.7313 - val_loss: 0.7106 - val_accuracy: 0.7508\n",
      "Epoch 5/10\n",
      "3153/3153 [==============================] - 411s 130ms/step - loss: 0.6363 - accuracy: 0.7797 - val_loss: 0.6387 - val_accuracy: 0.7766\n",
      "Epoch 6/10\n",
      "3153/3153 [==============================] - 468s 148ms/step - loss: 0.5372 - accuracy: 0.8156 - val_loss: 0.5785 - val_accuracy: 0.7957\n",
      "Epoch 7/10\n",
      "3153/3153 [==============================] - 468s 149ms/step - loss: 0.4611 - accuracy: 0.8426 - val_loss: 0.5358 - val_accuracy: 0.8159\n",
      "Epoch 8/10\n",
      "3153/3153 [==============================] - 427s 135ms/step - loss: 0.3989 - accuracy: 0.8647 - val_loss: 0.5102 - val_accuracy: 0.8288\n",
      "Epoch 9/10\n",
      "3153/3153 [==============================] - 432s 137ms/step - loss: 0.3480 - accuracy: 0.8809 - val_loss: 0.5030 - val_accuracy: 0.8348\n",
      "Epoch 10/10\n",
      "3153/3153 [==============================] - 426s 135ms/step - loss: 0.3062 - accuracy: 0.8949 - val_loss: 0.4797 - val_accuracy: 0.8439\n",
      "198/198 [==============================] - 11s 49ms/step\n"
     ]
    }
   ],
   "source": [
    "#THE MODEL\n",
    "categorical_cols = ['gender', 'accent']\n",
    "numerical_cols = [col for col in df_features.columns if col not in ['age', 'gender', 'accent']]\n",
    "\n",
    "# One-hot encoding the categorical columns\n",
    "preprocessor = ColumnTransformer(\n",
    "    transformers=[\n",
    "        ('cat', OneHotEncoder(), categorical_cols)\n",
    "    ],\n",
    "    remainder='passthrough'#numerical data passes unchanged\n",
    ")\n",
    "\n",
    "#Encoding the 'age' column using LabelEncoder() to convert the age categories into numerical labels.\n",
    "X_preprocessed = preprocessor.fit_transform(df_features.drop(columns=['age']))\n",
    "label_encoder = LabelEncoder()\n",
    "y_encoded = label_encoder.fit_transform(df_features['age'])\n",
    "\n",
    "\n",
    "#Split data into 3 sets (train, val, test) using StratifiedKFold to ensure equal representation of age groups in all sets\n",
    "#split into train set (60%)  + temp test set split into (20% test +  20% val)\n",
    "X_train, X_temp, y_train, y_temp = train_test_split(X_preprocessed, y_encoded, test_size=0.2, stratify=y_encoded, random_state=42)\n",
    "X_val, X_test, y_val, y_test = train_test_split(X_temp, y_temp, test_size=0.25, stratify=y_temp, random_state=42)\n",
    "\n",
    "# Convert input features to float32\n",
    "X_train = X_train.astype('float32')\n",
    "X_val = X_val.astype('float32')\n",
    "\n",
    "# Standardize input features to have a mean of 0 and a standard deviation of 1.\n",
    "scaler = StandardScaler()\n",
    "X_train = scaler.fit_transform(X_train)\n",
    "X_val = scaler.transform(X_val)\n",
    "\n",
    "# Model Structure\n",
    "#2 LSTM layers + \n",
    "model = Sequential([\n",
    "    LSTM(units=256, return_sequences=True, input_shape=(X_train.shape[1], 1)),\n",
    "    MaxPooling1D(pool_size=2),\n",
    "    LSTM(units=128, return_sequences=True),\n",
    "    LSTM(units=64),\n",
    "    Dropout(0.2), # to prevent overfitting\n",
    "    Flatten(), #to flatten the input into a one-dimensional array\n",
    "    Dense(units=32, activation='relu'),\n",
    "    Dense(units=len(label_encoder.classes_), activation='softmax')\n",
    "])\n",
    "# Compile the model\n",
    "model.compile(optimizer='adam', loss='sparse_categorical_crossentropy', metrics=['accuracy'])\n",
    "\n",
    "# Train the model\n",
    "#batch_size for GPU: 1, 2, 4, 8, 16, 32, 64, 128, 256, 512\n",
    "history = model.fit(X_train.reshape((X_train.shape[0], X_train.shape[1], 1)), y_train, \n",
    "                    epochs=10, batch_size=32, validation_data=(X_val.reshape((X_val.shape[0], X_val.shape[1], 1)), y_val))\n",
    "\n",
    "# Preprocess test data (so it's on the same scale as the train + val data)\n",
    "X_test = scaler.transform(X_test)\n",
    "\n",
    "# Predict on test data\n",
    "#\"y_test_decoded \" is the real age class and \"y_pred_decoded \" the one predicted by the mode\n",
    "y_pred_probabilities = model.predict(X_test.reshape((X_test.shape[0], X_test.shape[1], 1)))\n",
    "y_pred = np.argmax(y_pred_probabilities, axis=1)\n",
    "\n",
    "# Decode labels\n",
    "#These line decodes the encoded labels of the test data back to their original form\n",
    "y_test_decoded = label_encoder.inverse_transform(y_test)\n",
    "#converts these numerical indices back to their corresponding age categories.\n",
    "y_pred_decoded = label_encoder.inverse_transform(y_pred)\n",
    "\n",
    "\n",
    "# Calculate evaluation metrics\n",
    "accuracy = accuracy_score(y_test_decoded, y_pred_decoded)\n",
    "precision = precision_score(y_test_decoded, y_pred_decoded, average='weighted', labels=np.unique(y_pred_decoded))\n",
    "recall = recall_score(y_test_decoded, y_pred_decoded, average='weighted', labels=np.unique(y_pred_decoded))\n",
    "f1 = f1_score(y_test_decoded, y_pred_decoded, average='weighted', labels=np.unique(y_pred_decoded))\n",
    "\n",
    "# Confusion matrix\n",
    "conf_matrix = confusion_matrix(y_test_decoded, y_pred_decoded, labels=np.unique(y_pred_decoded))"
   ]
  },
  {
   "cell_type": "code",
   "execution_count": 22,
   "metadata": {},
   "outputs": [
    {
     "name": "stdout",
     "output_type": "stream",
     "text": [
      "Number of rows in training set: 100886\n",
      "Number of rows in validation set: 18916\n",
      "Number of rows in testing set: 6306\n"
     ]
    }
   ],
   "source": [
    "print(\"Number of rows in training set:\", X_train.shape[0])\n",
    "print(\"Number of rows in validation set:\", X_val.shape[0])\n",
    "print(\"Number of rows in testing set:\", X_test.shape[0])"
   ]
  },
  {
   "cell_type": "code",
   "execution_count": 23,
   "metadata": {},
   "outputs": [
    {
     "name": "stdout",
     "output_type": "stream",
     "text": [
      "Accuracy: 0.8471297177291468\n",
      "Precision: 0.8476930673459463\n",
      "Recall: 0.8471297177291468\n",
      "F1 Score: 0.8466373115349738\n"
     ]
    }
   ],
   "source": [
    "#Performance\n",
    "print(\"Accuracy:\", accuracy)\n",
    "print(\"Precision:\", precision)\n",
    "print(\"Recall:\", recall)\n",
    "print(\"F1 Score:\", f1)"
   ]
  },
  {
   "cell_type": "code",
   "execution_count": 24,
   "metadata": {},
   "outputs": [
    {
     "data": {
      "image/png": "[encoded data removed]",
      "text/plain": [
       "<Figure size 700x600 with 2 Axes>"
      ]
     },
     "metadata": {},
     "output_type": "display_data"
    }
   ],
   "source": [
    "plt.figure(figsize=(7, 6))\n",
    "sns.heatmap(conf_matrix, annot=True, fmt='d', cmap='Blues', \n",
    "            xticklabels=label_encoder.classes_, \n",
    "            yticklabels=label_encoder.classes_)\n",
    "plt.xlabel('Predicted')\n",
    "plt.ylabel('True')\n",
    "plt.title('Confusion Matrix')\n",
    "plt.show()"
   ]
  },
  {
   "cell_type": "code",
   "execution_count": 19,
   "metadata": {},
   "outputs": [],
   "source": [
    "model.save('my_model.h5')"
   ]
  }
 ],
 "metadata": {
  "kernelspec": {
   "display_name": "Python 3",
   "language": "python",
   "name": "python3"
  },
  "language_info": {
   "codemirror_mode": {
    "name": "ipython",
    "version": 3
   },
   "file_extension": ".py",
   "mimetype": "text/x-python",
   "name": "python",
   "nbconvert_exporter": "python",
   "pygments_lexer": "ipython3",
   "version": "3.11.4"
  }
 },
 "nbformat": 4,
 "nbformat_minor": 2
}
